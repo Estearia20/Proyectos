{
 "cells": [
  {
   "cell_type": "markdown",
   "id": "bdab31e0",
   "metadata": {},
   "source": [
    "# Requerimientos para módulo Receptor (RX)\n",
    "### Instituto Tecnologico de Costa Rica\n",
    "### Escuela de Ingeniería Electrónica\n",
    "### Curso: Taller de Comunicaciones Eléctricas\n",
    "### Estudiantes:\n",
    "- Esteban Arias Rojas\n",
    "- David Herrera Castro\n",
    "- David Monge Naranjo\n",
    "- Federico Rivera Moya"
   ]
  },
  {
   "cell_type": "code",
   "execution_count": 1,
   "id": "e56bb37b",
   "metadata": {},
   "outputs": [],
   "source": [
    "import numpy as np\n",
    "import pandas as pd\n",
    "from utils import decoder\n",
    "from utils import encoder\n",
    "from time import time\n",
    "from utils.awgn_channel import apply_awgn_channel"
   ]
  },
  {
   "cell_type": "markdown",
   "id": "61a69c1f",
   "metadata": {},
   "source": [
    "## Lectura de datos"
   ]
  },
  {
   "cell_type": "markdown",
   "id": "49b04c1a",
   "metadata": {},
   "source": [
    "### Datos sin codificar"
   ]
  },
  {
   "cell_type": "code",
   "execution_count": 2,
   "id": "c15e5d4c",
   "metadata": {},
   "outputs": [
    {
     "name": "stdout",
     "output_type": "stream",
     "text": [
      "          Datos\n",
      "0     90.787115\n",
      "1     91.575105\n",
      "2     92.242893\n",
      "3     92.990973\n",
      "4     93.843062\n",
      "..          ...\n",
      "122  126.816691\n",
      "123  125.965607\n",
      "124  125.276151\n",
      "125  124.510648\n",
      "126  123.919015\n",
      "\n",
      "[127 rows x 1 columns]\n"
     ]
    }
   ],
   "source": [
    "file0 = \"filtro_savitzky.xlsx\"\n",
    "\n",
    "# Leer el archivo Excel\n",
    "datos_pd0 = pd.read_excel(file0)\n",
    "\n",
    "#Mostrar los datos leídos\n",
    "print(datos_pd0)"
   ]
  },
  {
   "cell_type": "code",
   "execution_count": 3,
   "id": "71ee3fae",
   "metadata": {},
   "outputs": [],
   "source": [
    "datos_array0 = np.array(datos_pd0)\n",
    "\n",
    "# Convierte los datos en punto flotante a entero\n",
    "datos_enteros0 = []\n",
    "\n",
    "for dato in datos_array0:\n",
    "    datos_enteros0.append(dato[0])"
   ]
  },
  {
   "cell_type": "code",
   "execution_count": 4,
   "id": "de216835",
   "metadata": {},
   "outputs": [],
   "source": [
    "# Semilla para generar secuencia pseudo aleatoria\n",
    "seed = 3\n",
    "\n",
    "# Se llama la funcion que modela el canal\n",
    "datos_ruidosos0, _ = apply_awgn_channel(signal=datos_enteros0,\n",
    "                                             snr_db=22,\n",
    "                                             signal_power=5,\n",
    "                                             semilla=seed)"
   ]
  },
  {
   "cell_type": "markdown",
   "id": "10796bf9",
   "metadata": {},
   "source": [
    "#### Datos originales"
   ]
  },
  {
   "cell_type": "code",
   "execution_count": 5,
   "id": "e4fdb81a",
   "metadata": {},
   "outputs": [],
   "source": [
    "# Convierte los datos en punto flotante a binario de forma vectorizada\n",
    "datos_binarios = np.vectorize(encoder.float2bin)(np.array(datos_enteros0))\n",
    "\n",
    "# Concatena todos los datos en un solo str\n",
    "datos_full = \"\"\n",
    "for i in range(len(datos_binarios)):\n",
    "    datos_full += datos_binarios[i]\n",
    "\n",
    "# Convierte los datos a una lista\n",
    "datos_list_uncoded = []\n",
    "for bit in datos_full:\n",
    "    datos_list_uncoded.append(int(bit))"
   ]
  },
  {
   "cell_type": "markdown",
   "id": "9b19c2eb",
   "metadata": {},
   "source": [
    "#### Datos pasados por el canal"
   ]
  },
  {
   "cell_type": "code",
   "execution_count": 6,
   "id": "a65418a5",
   "metadata": {},
   "outputs": [],
   "source": [
    "# Convierte los datos en punto flotante a binario de forma vectorizada\n",
    "datos_binarios = np.vectorize(encoder.float2bin)(np.array(datos_ruidosos0))\n",
    "\n",
    "# Concatena todos los datos en un solo str\n",
    "datos_full = \"\"\n",
    "for i in range(len(datos_binarios)):\n",
    "    datos_full += datos_binarios[i]\n",
    "\n",
    "# Convierte los datos a una lista\n",
    "datos_list_coded = []\n",
    "for bit in datos_full:\n",
    "    datos_list_coded.append(int(bit))"
   ]
  },
  {
   "cell_type": "code",
   "execution_count": 7,
   "id": "b7156709",
   "metadata": {},
   "outputs": [],
   "source": [
    "error_bits = 0\n",
    "\n",
    "for dato_u, dato_c in zip(datos_list_uncoded, datos_list_coded):\n",
    "    if dato_u != dato_c:\n",
    "        error_bits += 1\n",
    "\n",
    "BER_uncoded = error_bits / len(datos_list_uncoded)"
   ]
  },
  {
   "cell_type": "markdown",
   "id": "a502a962",
   "metadata": {},
   "source": [
    "### Variante (7,4)"
   ]
  },
  {
   "cell_type": "code",
   "execution_count": 8,
   "id": "deda8f0f",
   "metadata": {},
   "outputs": [
    {
     "name": "stdout",
     "output_type": "stream",
     "text": [
      "      Datos\n",
      "0         0\n",
      "1         1\n",
      "2         0\n",
      "3         1\n",
      "4         1\n",
      "...     ...\n",
      "1773      0\n",
      "1774      0\n",
      "1775      1\n",
      "1776      0\n",
      "1777      1\n",
      "\n",
      "[1778 rows x 1 columns]\n"
     ]
    }
   ],
   "source": [
    "file1 = \"datos_ruido_74.xlsx\"\n",
    "\n",
    "# Leer el archivo Excel\n",
    "datos_pd1 = pd.read_excel(file1)\n",
    "\n",
    "# Mostrar los datos leídos\n",
    "print(datos_pd1)"
   ]
  },
  {
   "cell_type": "code",
   "execution_count": 9,
   "id": "cd941875",
   "metadata": {},
   "outputs": [
    {
     "name": "stdout",
     "output_type": "stream",
     "text": [
      "[0, 1, 0, 1, 1, 1, 0, 1, 0, 1, 1, 1, 0, 0, 0, 1, 0, 1, 1, 1, 0, 1, 1, 0, 0, 1, 0, 1, 0, 1, 0, 1, 1, 1, 0, 1, 1, 0, 0, 1, 0, 1, 0, 1, 0, 1, 1, 1, 0, 1, 1, 0, 1, 0, 0, 0, 0, 1, 0, 1, 1, 1, 0, 1, 1, 1, 0, 0, 1, 0, 0, 1, 0, 1, 1, 1, 0, 1, 1, 1, 1, 1, 1, 1, 0, 1, 0, 1, 1, 1, 0, 1, 1, 1, 1, 1, 1, 1, 0, 1, 1, 0, 1, 0, 0, 0, 0, 0, 0, 0, 0, 0, 0, 1, 1, 0, 1, 0, 0, 0, 0, 0, 1, 1, 0, 1, 0, 1, 1, 0, 1, 0, 0, 0, 0, 1, 0, 1, 1, 1, 0, 1, 1, 0, 1, 0, 0, 0, 0, 1, 1, 0, 1, 0, 0, 1, 1, 0, 1, 0, 0, 0, 1, 0, 0, 0, 1, 1, 0, 1, 1, 0, 1, 0, 0, 0, 1, 0, 1, 1, 1, 0, 0, 1, 1, 0, 1, 0, 0, 0, 1, 1, 0, 1, 0, 0, 0, 1, 1, 0, 1, 0, 0, 0, 1, 1, 1, 0, 0, 1, 0, 1, 1, 0, 1, 0, 0, 0, 1, 1, 1, 0, 0, 1, 0, 1, 1, 0, 1, 0, 0, 1, 0, 0, 0, 1, 1, 0, 0, 1, 1, 0, 1, 0, 0, 1, 0, 0, 1, 0, 1, 1, 0, 1, 1, 0, 1, 0, 0, 1, 0, 1, 0, 0, 0, 1, 0, 1, 1, 0, 1, 0, 0, 1, 0, 1, 1, 1, 0, 0, 0, 1, 1, 0, 1, 0, 0, 1, 0, 1, 1, 1, 0, 0, 0, 1, 1, 0, 1, 0, 0, 1, 1, 0, 0, 1, 0, 1, 0, 1, 1, 0, 1, 0, 0, 1, 1, 0, 0, 1, 0, 1, 0, 1, 1, 0, 1, 0, 0, 1, 1, 0, 1, 0, 0, 0, 0, 1, 1, 0, 1, 0, 0, 1, 1, 1, 0, 0, 1, 0, 0, 1, 1, 0, 1, 0, 0, 1, 1, 1, 1, 1, 1, 1, 0, 1, 1, 0, 1, 0, 0, 1, 1, 1, 1, 1, 1, 1, 0, 1, 1, 1, 0, 0, 1, 0, 0, 0, 0, 0, 0, 0, 0, 1, 1, 1, 0, 0, 1, 0, 0, 0, 0, 0, 0, 0, 0, 1, 1, 1, 0, 0, 1, 0, 0, 0, 1, 1, 0, 1, 0, 1, 1, 1, 0, 0, 1, 0, 0, 0, 1, 1, 0, 1, 0, 1, 1, 1, 0, 0, 1, 0, 0, 1, 0, 1, 1, 1, 0, 1, 1, 1, 0, 0, 1, 0, 0, 1, 0, 1, 1, 1, 0, 1, 1, 1, 0, 0, 1, 0, 0, 1, 1, 0, 1, 0, 0, 1, 1, 1, 0, 0, 1, 0, 1, 0, 0, 0, 1, 1, 0, 1, 1, 1, 0, 0, 1, 0, 1, 0, 1, 1, 1, 0, 0, 1, 1, 1, 0, 0, 1, 0, 1, 1, 0, 1, 0, 0, 0, 1, 1, 1, 0, 0, 1, 0, 1, 1, 1, 0, 0, 1, 0, 1, 1, 1, 0, 0, 1, 1, 0, 0, 0, 1, 1, 0, 0, 1, 1, 1, 0, 0, 1, 1, 0, 0, 0, 1, 1, 0, 0, 1, 1, 1, 0, 0, 1, 1, 0, 0, 1, 0, 1, 1, 0, 1, 1, 1, 0, 0, 1, 1, 0, 1, 0, 0, 0, 1, 0, 1, 1, 1, 0, 0, 1, 1, 0, 1, 0, 0, 0, 1, 0, 1, 1, 1, 0, 0, 1, 1, 0, 1, 0, 0, 0, 1, 0, 1, 1, 1, 0, 0, 0, 1, 0, 1, 1, 1, 0, 0, 0, 1, 1, 1, 0, 0, 1, 1, 0, 1, 1, 1, 0, 0, 0, 1, 1, 1, 0, 0, 1, 1, 1, 0, 0, 1, 0, 1, 0, 1, 1, 1, 0, 0, 1, 1, 1, 0, 0, 1, 0, 1, 0, 1, 1, 1, 0, 0, 1, 1, 1, 0, 0, 1, 0, 1, 0, 1, 1, 1, 0, 0, 1, 1, 1, 0, 1, 0, 0, 0, 0, 1, 1, 1, 0, 0, 1, 1, 1, 1, 0, 0, 1, 0, 0, 1, 1, 1, 0, 0, 1, 1, 1, 1, 1, 1, 1, 1, 1, 0, 0, 0, 1, 1, 0, 0, 0, 0, 0, 0, 0, 0, 1, 0, 0, 0, 1, 1, 0, 0, 0, 0, 0, 0, 0, 0, 1, 0, 0, 0, 1, 1, 0, 0, 0, 0, 1, 1, 0, 1, 1, 0, 0, 0, 1, 1, 0, 0, 0, 1, 0, 1, 1, 1, 1, 0, 0, 0, 1, 1, 0, 0, 0, 1, 0, 1, 1, 1, 1, 0, 0, 0, 1, 1, 0, 0, 0, 1, 1, 0, 1, 0, 1, 0, 0, 0, 1, 1, 0, 0, 1, 0, 0, 0, 1, 1, 1, 0, 0, 0, 1, 1, 0, 0, 1, 0, 1, 1, 1, 0, 1, 0, 0, 0, 1, 1, 0, 0, 1, 1, 0, 1, 0, 0, 1, 0, 0, 0, 1, 1, 0, 1, 0, 0, 0, 1, 1, 0, 1, 0, 0, 0, 1, 1, 0, 1, 0, 0, 1, 0, 1, 1, 1, 0, 0, 0, 1, 1, 0, 1, 0, 1, 0, 0, 0, 1, 1, 0, 0, 0, 1, 1, 0, 1, 0, 1, 1, 1, 0, 0, 1, 0, 0, 0, 1, 1, 0, 1, 1, 0, 0, 1, 0, 1, 1, 0, 0, 0, 1, 1, 0, 1, 1, 0, 1, 0, 0, 0, 1, 0, 0, 0, 1, 1, 0, 1, 1, 1, 0, 0, 1, 0, 1, 0, 0, 0, 1, 1, 0, 1, 1, 1, 0, 0, 1, 0, 1, 0, 0, 1, 0, 1, 1, 0, 0, 0, 0, 0, 0, 0, 1, 0, 0, 1, 0, 1, 1, 0, 0, 0, 1, 1, 0, 1, 1, 0, 0, 1, 0, 1, 1, 0, 0, 1, 0, 1, 1, 1, 1, 0, 0, 1, 0, 1, 1, 0, 0, 1, 1, 0, 1, 0, 1, 0, 0, 1, 0, 1, 1, 0, 1, 0, 0, 0, 1, 1, 1, 0, 0, 1, 0, 1, 1, 0, 1, 1, 0, 1, 0, 0, 1, 0, 0, 1, 0, 1, 1, 0, 1, 1, 0, 1, 0, 0, 1, 0, 0, 1, 0, 1, 1, 0, 1, 1, 1, 0, 0, 1, 1, 0, 0, 1, 0, 1, 1, 1, 0, 0, 0, 1, 1, 0, 1, 0, 0, 1, 0, 1, 1, 1, 0, 0, 1, 0, 1, 1, 1, 0, 0, 1, 0, 1, 1, 1, 0, 1, 0, 0, 0, 1, 1, 0, 0, 1, 0, 1, 1, 1, 0, 1, 1, 1, 0, 0, 1, 0, 0, 1, 0, 1, 1, 1, 1, 0, 0, 1, 0, 1, 1, 0, 0, 1, 0, 1, 1, 1, 1, 0, 1, 0, 0, 0, 1, 0, 0, 1, 0, 1, 1, 1, 1, 1, 0, 0, 1, 0, 1, 0, 0, 1, 0, 1, 1, 1, 1, 1, 1, 1, 1, 1, 1, 0, 1, 0, 0, 0, 1, 0, 0, 0, 0, 0, 0, 0, 1, 0, 1, 0, 0, 0, 1, 0, 0, 1, 0, 1, 1, 1, 1, 0, 1, 0, 0, 0, 1, 0, 0, 1, 1, 0, 1, 0, 1, 0, 1, 0, 0, 0, 1, 0, 1, 0, 0, 0, 1, 1, 1, 0, 1, 0, 0, 0, 1, 0, 1, 0, 0, 0, 1, 1, 1, 0, 1, 0, 0, 0, 1, 0, 1, 0, 0, 0, 1, 1, 1, 0, 1, 0, 0, 0, 1, 0, 0, 1, 0, 1, 1, 1, 1, 0, 1, 0, 0, 0, 1, 0, 0, 0, 1, 1, 0, 1, 1, 0, 0, 1, 0, 1, 1, 1, 1, 1, 1, 1, 1, 1, 1, 0, 0, 1, 0, 1, 1, 1, 1, 0, 1, 0, 0, 0, 1, 0, 0, 1, 0, 1, 1, 1, 1, 0, 0, 1, 0, 1, 1, 0, 0, 1, 0, 1, 1, 1, 0, 1, 0, 0, 0, 1, 1, 0, 0, 1, 0, 1, 1, 1, 0, 0, 0, 1, 1, 0, 1, 0, 0, 1, 0, 1, 1, 0, 1, 1, 0, 1, 0, 0, 1, 0, 0, 1, 0, 1, 1, 0, 1, 0, 0, 0, 1, 1, 1, 0, 0, 1, 0, 1, 1, 0, 0, 1, 0, 1, 1, 1, 1, 0, 0, 1, 0, 1, 1, 0, 0, 0, 1, 1, 0, 1, 1, 0, 0, 1, 0, 1, 1, 0, 0, 0, 0, 0, 0, 0, 1, 0, 0, 0, 1, 1, 0, 1, 1, 1, 0, 0, 1, 0, 1, 0, 0, 0, 1, 1, 0, 1, 1, 0, 1, 0, 0, 0, 1, 0, 0, 0, 1, 1, 0, 1, 0, 1, 1, 1, 0, 0, 1, 0, 0, 0, 1, 1, 0, 1, 0, 1, 0, 0, 0, 1, 1, 0, 0, 0, 1, 1, 0, 1, 0, 0, 0, 1, 1, 0, 1, 0, 0, 0, 1, 1, 0, 0, 1, 1, 1, 0, 0, 1, 1, 0, 0, 0, 1, 1, 0, 0, 1, 1, 0, 1, 0, 0, 1, 0, 0, 0, 1, 1, 0, 0, 1, 0, 1, 1, 1, 0, 1, 0, 0, 0, 1, 1, 0, 0, 1, 0, 1, 1, 1, 0, 1, 0, 0, 0, 1, 1, 0, 0, 1, 0, 0, 0, 1, 1, 1, 0, 0, 0, 1, 1, 0, 0, 0, 1, 1, 0, 1, 0, 1, 0, 0, 0, 1, 1, 0, 0, 0, 1, 1, 0, 1, 0, 1, 0, 0, 0, 1, 1, 0, 0, 0, 1, 0, 1, 1, 1, 1, 0, 0, 0, 1, 1, 0, 0, 0, 0, 1, 1, 0, 1, 1, 0, 0, 0, 1, 1, 0, 0, 0, 0, 1, 1, 0, 1, 1, 0, 0, 0, 1, 1, 0, 0, 0, 0, 0, 0, 0, 0, 1, 0, 0, 0, 1, 1, 0, 0, 0, 0, 0, 0, 0, 0, 1, 0, 0, 0, 1, 1, 0, 0, 0, 0, 0, 0, 0, 0, 0, 1, 1, 1, 0, 0, 1, 1, 1, 1, 1, 1, 1, 1, 0, 1, 1, 1, 0, 0, 1, 1, 1, 1, 1, 1, 1, 1, 0, 1, 1, 1, 0, 0, 1, 1, 1, 1, 0, 0, 1, 0, 0, 1, 1, 1, 0, 0, 1, 1, 1, 0, 1, 0, 0, 0, 0, 1, 1, 1, 0, 0, 1, 1, 1, 0, 1, 0, 0, 0, 0, 1, 1, 1, 0, 0, 1, 1, 1, 0, 0, 1, 0, 1]\n"
     ]
    }
   ],
   "source": [
    "datos_array1 = np.array(datos_pd1)\n",
    "\n",
    "datos_list1 = []\n",
    "\n",
    "for i in range(len(datos_array1)):\n",
    "    datos_list1.append(datos_array1[i][0])\n",
    "    \n",
    "print(datos_list1)"
   ]
  },
  {
   "cell_type": "code",
   "execution_count": 10,
   "id": "113979cb",
   "metadata": {},
   "outputs": [],
   "source": [
    "# Variante (7, 4)\n",
    "\n",
    "# Longitud del bloque\n",
    "n1 = 7\n",
    "\n",
    "# Número de bits de mensaje\n",
    "k1 = 4\n",
    "\n",
    "# Matriz de paridad para variante (7, 4)\n",
    "P1 = np.array([\n",
    "    [1, 1, 0],\n",
    "    [0, 1, 1],\n",
    "    [1, 1, 1],\n",
    "    [1, 0, 1]\n",
    "])\n",
    "\n",
    "I_k1 = np.eye(k1)\n",
    "I_nk1 = np.eye(n1 - k1)"
   ]
  },
  {
   "cell_type": "code",
   "execution_count": 11,
   "id": "7c16cc55",
   "metadata": {},
   "outputs": [],
   "source": [
    "# Matriz generadora G en el formato [I_k | P] para el código de Hamming (7, 4)\n",
    "G1 = np.concatenate((I_k1, P1), axis=1).astype(int)\n",
    "\n",
    "# Matriz de revisión de paridad H\n",
    "H1 = np.concatenate((np.transpose(P1), I_nk1), axis=1).astype(int)"
   ]
  },
  {
   "cell_type": "markdown",
   "id": "de25f445",
   "metadata": {},
   "source": [
    "### Ejemplo"
   ]
  },
  {
   "cell_type": "code",
   "execution_count": 12,
   "id": "1aa837e5",
   "metadata": {},
   "outputs": [],
   "source": [
    "# Datos de entrada (4 bits)\n",
    "data_bits = [0, 0, 0, 1]"
   ]
  },
  {
   "cell_type": "code",
   "execution_count": 13,
   "id": "20592d44",
   "metadata": {},
   "outputs": [],
   "source": [
    "# Codificar los datos\n",
    "encoded_bits = encoder.hamming_encode(data_bits, G1)"
   ]
  },
  {
   "cell_type": "code",
   "execution_count": 14,
   "id": "63796a62",
   "metadata": {},
   "outputs": [
    {
     "name": "stdout",
     "output_type": "stream",
     "text": [
      "Datos originales: [0, 0, 0, 1]\n",
      "Datos codificados: [0, 0, 0, 1, 1, 0, 1]\n"
     ]
    }
   ],
   "source": [
    "print(\"Datos originales:\", data_bits)\n",
    "print(\"Datos codificados:\", encoded_bits)"
   ]
  },
  {
   "cell_type": "code",
   "execution_count": 15,
   "id": "f8707dae",
   "metadata": {},
   "outputs": [],
   "source": [
    "error_bits = [0, 0, 0, 0, 0, 0, 1, 0]"
   ]
  },
  {
   "cell_type": "code",
   "execution_count": 16,
   "id": "4d108da3",
   "metadata": {},
   "outputs": [],
   "source": [
    "encoded_bits = [((a+b)%2) for a, b in zip(encoded_bits, error_bits)]"
   ]
  },
  {
   "cell_type": "code",
   "execution_count": 17,
   "id": "f706125a",
   "metadata": {},
   "outputs": [],
   "source": [
    "decoded_bits, error = decoder.hamming_decode(encoded_bits, H1)"
   ]
  },
  {
   "cell_type": "code",
   "execution_count": 18,
   "id": "b2b67a12",
   "metadata": {},
   "outputs": [
    {
     "name": "stdout",
     "output_type": "stream",
     "text": [
      "Datos codificados con 1 error: [0, 0, 0, 1, 1, 0, 0]\n",
      "Datos decodificados: [0, 0, 0, 1]\n",
      "Error encontrado\n"
     ]
    }
   ],
   "source": [
    "print(\"Datos codificados con 1 error:\", encoded_bits)\n",
    "print(\"Datos decodificados:\", decoded_bits)\n",
    "if error:\n",
    "    print(\"Error encontrado\")\n",
    "else:\n",
    "    print(\"Sin errores\")"
   ]
  },
  {
   "cell_type": "markdown",
   "id": "e8cba81a",
   "metadata": {},
   "source": [
    "### Datos leídos"
   ]
  },
  {
   "cell_type": "code",
   "execution_count": 19,
   "id": "92f3e57f",
   "metadata": {},
   "outputs": [],
   "source": [
    "bloque_decodificado, BER_74 = decoder.hamming_decode_block(datos_list1, 74, H1)"
   ]
  },
  {
   "cell_type": "code",
   "execution_count": 20,
   "id": "c99b9186",
   "metadata": {},
   "outputs": [],
   "source": [
    "valores_enteros = []\n",
    "if len(bloque_decodificado)%8 != 0:\n",
    "    bits_agregados = len(bloque_decodificado) % 8\n",
    "    num_valores = int((len(bloque_decodificado) - bits_agregados) / 8)\n",
    "else:\n",
    "    num_valores = int(len(bloque_decodificado) / 8)"
   ]
  },
  {
   "cell_type": "code",
   "execution_count": 21,
   "id": "036ba8d1",
   "metadata": {},
   "outputs": [],
   "source": [
    "datos_enteros = []"
   ]
  },
  {
   "cell_type": "code",
   "execution_count": 22,
   "id": "8d591fbe",
   "metadata": {
    "scrolled": true
   },
   "outputs": [],
   "source": [
    "for i in range(num_valores):\n",
    "    num_str = \"\"\n",
    "    num_array = bloque_decodificado[8*i:8*i+8]\n",
    "    for bit in num_array:\n",
    "        num_str += str(bit)\n",
    "    datos_enteros.append(encoder.bin2int(num_str))"
   ]
  },
  {
   "cell_type": "markdown",
   "id": "8537423a",
   "metadata": {},
   "source": [
    "#### Ganancia de código"
   ]
  },
  {
   "cell_type": "code",
   "execution_count": 23,
   "id": "e664d68a",
   "metadata": {},
   "outputs": [],
   "source": [
    "G_74 = 10*np.log10(BER_uncoded / BER_74)"
   ]
  },
  {
   "cell_type": "code",
   "execution_count": 24,
   "id": "088fe050",
   "metadata": {},
   "outputs": [],
   "source": [
    "# Guarda los datos enteros decodificados en un CSV\n",
    "decodificados_74 = pd.DataFrame({'BPM_Decodificados_7_4': datos_enteros})\n",
    "\n",
    "# Guarda el DataFrame en un archivo CSV\n",
    "decodificados_74.to_excel('decodificados_74.xlsx', index=False)"
   ]
  },
  {
   "cell_type": "code",
   "execution_count": 25,
   "id": "b0dd85f0",
   "metadata": {},
   "outputs": [
    {
     "name": "stdout",
     "output_type": "stream",
     "text": [
      "Datos decodificados binarios: [0, 1, 0, 1, 1, 0, 1, 1, 0, 1, 0, 1, 1, 1, 0, 0, 0, 1, 0, 1, 1, 1, 0, 0, 0, 1, 0, 1, 1, 1, 0, 1, 0, 1, 0, 1, 1, 1, 1, 0, 0, 1, 0, 1, 1, 1, 1, 1, 0, 1, 0, 1, 1, 1, 1, 1, 0, 1, 1, 0, 0, 0, 0, 0, 0, 1, 1, 0, 0, 0, 0, 1, 0, 1, 1, 0, 0, 0, 1, 0, 0, 1, 1, 0, 0, 0, 1, 1, 0, 1, 1, 0, 0, 1, 0, 0, 0, 1, 1, 0, 0, 1, 0, 1, 0, 1, 1, 0, 0, 1, 1, 0, 0, 1, 1, 0, 0, 1, 1, 1, 0, 1, 1, 0, 0, 1, 1, 1, 0, 1, 1, 0, 1, 0, 0, 0, 0, 1, 1, 0, 1, 0, 0, 1, 0, 1, 1, 0, 1, 0, 1, 0, 0, 1, 1, 0, 1, 0, 1, 1, 0, 1, 1, 0, 1, 0, 1, 1, 0, 1, 1, 0, 1, 1, 0, 0, 0, 1, 1, 0, 1, 1, 0, 0, 0, 1, 1, 0, 1, 1, 0, 1, 0, 1, 1, 0, 1, 1, 1, 0, 0, 1, 1, 0, 1, 1, 1, 1, 0, 1, 1, 0, 1, 1, 1, 1, 0, 1, 1, 1, 0, 0, 0, 0, 0, 1, 1, 1, 0, 0, 0, 0, 0, 1, 1, 1, 0, 0, 0, 1, 0, 1, 1, 1, 0, 0, 0, 1, 0, 1, 1, 1, 0, 0, 1, 0, 0, 1, 1, 1, 0, 0, 1, 0, 0, 1, 1, 1, 0, 0, 1, 1, 0, 1, 1, 1, 0, 1, 0, 0, 0, 1, 1, 1, 0, 1, 0, 1, 0, 1, 1, 1, 0, 1, 1, 0, 0, 1, 1, 1, 0, 1, 1, 1, 0, 1, 1, 1, 1, 0, 0, 0, 0, 1, 1, 1, 1, 0, 0, 0, 0, 1, 1, 1, 1, 0, 0, 1, 0, 1, 1, 1, 1, 0, 1, 0, 0, 1, 1, 1, 1, 0, 1, 0, 0, 1, 1, 1, 1, 0, 1, 0, 0, 1, 1, 1, 1, 0, 1, 1, 0, 1, 1, 1, 1, 0, 1, 1, 0, 1, 1, 1, 1, 1, 0, 0, 0, 1, 1, 1, 1, 1, 0, 0, 0, 1, 1, 1, 1, 1, 0, 0, 0, 1, 1, 1, 1, 1, 0, 1, 0, 1, 1, 1, 1, 1, 1, 0, 0, 1, 1, 1, 1, 1, 1, 1, 1, 0, 0, 0, 0, 0, 0, 0, 1, 0, 0, 0, 0, 0, 0, 0, 1, 0, 0, 0, 0, 0, 0, 1, 1, 0, 0, 0, 0, 0, 1, 0, 1, 0, 0, 0, 0, 0, 1, 0, 1, 0, 0, 0, 0, 0, 1, 1, 1, 0, 0, 0, 0, 1, 0, 0, 1, 0, 0, 0, 0, 1, 0, 1, 1, 0, 0, 0, 0, 1, 1, 0, 1, 0, 0, 0, 1, 0, 0, 0, 1, 0, 0, 0, 1, 0, 0, 1, 1, 0, 0, 0, 1, 0, 1, 0, 1, 0, 0, 0, 1, 0, 1, 1, 1, 0, 0, 0, 1, 1, 0, 0, 1, 0, 0, 0, 1, 1, 0, 1, 1, 0, 0, 0, 1, 1, 1, 0, 1, 0, 0, 0, 1, 1, 1, 0, 1, 0, 0, 1, 0, 0, 0, 0, 1, 0, 0, 1, 0, 0, 0, 1, 1, 0, 0, 1, 0, 0, 1, 0, 1, 0, 0, 1, 0, 0, 1, 1, 1, 0, 0, 1, 0, 1, 0, 0, 1, 0, 0, 1, 0, 1, 1, 0, 1, 0, 0, 1, 0, 1, 1, 0, 1, 0, 0, 1, 0, 1, 1, 1, 1, 0, 0, 1, 1, 0, 0, 0, 1, 0, 0, 1, 1, 0, 0, 1, 1, 0, 0, 1, 1, 0, 1, 0, 1, 0, 0, 1, 1, 0, 1, 1, 1, 0, 0, 1, 1, 1, 0, 0, 1, 0, 0, 1, 1, 1, 0, 1, 1, 0, 0, 1, 1, 1, 1, 0, 1, 0, 0, 1, 1, 1, 1, 1, 1, 0, 1, 0, 0, 0, 0, 0, 1, 0, 1, 0, 0, 0, 1, 0, 1, 0, 1, 0, 0, 0, 1, 1, 1, 0, 1, 0, 0, 1, 0, 0, 1, 0, 1, 0, 0, 1, 0, 0, 1, 0, 1, 0, 0, 1, 0, 0, 1, 0, 1, 0, 0, 0, 1, 0, 1, 0, 1, 0, 0, 0, 0, 1, 1, 0, 0, 1, 1, 1, 1, 1, 1, 0, 0, 1, 1, 1, 0, 1, 1, 0, 0, 1, 1, 1, 0, 0, 1, 0, 0, 1, 1, 0, 1, 0, 1, 0, 0, 1, 1, 0, 0, 0, 1, 0, 0, 1, 0, 1, 1, 0, 1, 0, 0, 1, 0, 1, 0, 0, 1, 0, 0, 1, 0, 0, 1, 0, 1, 0, 0, 1, 0, 0, 0, 1, 1, 0, 0, 1, 0, 0, 0, 0, 1, 0, 0, 0, 1, 1, 1, 0, 1, 0, 0, 0, 1, 1, 0, 1, 1, 0, 0, 0, 1, 0, 1, 1, 1, 0, 0, 0, 1, 0, 1, 0, 1, 0, 0, 0, 1, 0, 0, 0, 1, 0, 0, 0, 0, 1, 1, 1, 1, 0, 0, 0, 0, 1, 1, 0, 1, 0, 0, 0, 0, 1, 0, 1, 1, 0, 0, 0, 0, 1, 0, 1, 1, 0, 0, 0, 0, 1, 0, 0, 1, 0, 0, 0, 0, 0, 1, 1, 1, 0, 0, 0, 0, 0, 1, 1, 1, 0, 0, 0, 0, 0, 1, 0, 1, 0, 0, 0, 0, 0, 0, 1, 1, 0, 0, 0, 0, 0, 0, 1, 1, 0, 0, 0, 0, 0, 0, 0, 1, 0, 0, 0, 0, 0, 0, 0, 1, 0, 0, 0, 0, 0, 0, 0, 0, 1, 1, 1, 1, 1, 1, 1, 0, 1, 1, 1, 1, 1, 1, 1, 0, 1, 1, 1, 1, 1, 1, 0, 0, 1, 1, 1, 1, 1, 0, 1, 0, 1, 1, 1, 1, 1, 0, 1, 0, 1, 1, 1, 1, 1, 0, 0]\n",
      "\n",
      "Datos decodificados enteros: [91, 92, 92, 93, 94, 95, 95, 96, 97, 98, 99, 100, 101, 102, 103, 103, 104, 105, 106, 107, 107, 108, 108, 109, 110, 111, 111, 112, 112, 113, 113, 114, 114, 115, 116, 117, 118, 119, 120, 120, 121, 122, 122, 122, 123, 123, 124, 124, 124, 125, 126, 127, 128, 128, 129, 130, 130, 131, 132, 133, 134, 136, 137, 138, 139, 140, 141, 142, 142, 144, 145, 146, 147, 148, 150, 150, 151, 152, 153, 154, 155, 156, 157, 158, 159, 160, 162, 163, 164, 164, 164, 162, 161, 159, 157, 156, 154, 152, 150, 148, 146, 145, 144, 142, 141, 139, 138, 136, 135, 134, 133, 133, 132, 131, 131, 130, 129, 129, 128, 128, 128, 127, 127, 126, 125, 125, 124]\n",
      "\n",
      "Bit Error Rate del sistema: 0.000984251968503937\n",
      "\n",
      "Ganancia de código:  15.314789170422552\n"
     ]
    }
   ],
   "source": [
    "print(\"Datos decodificados binarios:\", bloque_decodificado)\n",
    "print(\"\\nDatos decodificados enteros:\", datos_enteros)\n",
    "print(\"\\nBit Error Rate del sistema:\", BER_74)\n",
    "print(\"\\nGanancia de código: \", G_74)"
   ]
  },
  {
   "cell_type": "markdown",
   "id": "e74002dd",
   "metadata": {},
   "source": [
    "### Variante (15, 11)"
   ]
  },
  {
   "cell_type": "code",
   "execution_count": 26,
   "id": "520462b2",
   "metadata": {},
   "outputs": [
    {
     "name": "stdout",
     "output_type": "stream",
     "text": [
      "      Datos\n",
      "0         0\n",
      "1         1\n",
      "2         0\n",
      "3         1\n",
      "4         1\n",
      "...     ...\n",
      "1390      0\n",
      "1391      0\n",
      "1392      0\n",
      "1393      0\n",
      "1394      1\n",
      "\n",
      "[1395 rows x 1 columns]\n"
     ]
    }
   ],
   "source": [
    "file2 = \"datos_ruido_1511.xlsx\"\n",
    "\n",
    "# Leer el archivo Excel\n",
    "datos_pd2 = pd.read_excel(file2)\n",
    "\n",
    "# Mostrar los datos leídos\n",
    "print(datos_pd2)"
   ]
  },
  {
   "cell_type": "code",
   "execution_count": 27,
   "id": "84077658",
   "metadata": {
    "scrolled": false
   },
   "outputs": [
    {
     "name": "stdout",
     "output_type": "stream",
     "text": [
      "[0, 1, 0, 1, 1, 0, 1, 1, 0, 1, 0, 0, 0, 1, 0, 1, 1, 1, 0, 0, 0, 1, 0, 1, 1, 1, 0, 1, 0, 1, 0, 0, 0, 1, 0, 1, 1, 1, 0, 1, 0, 1, 1, 0, 1, 1, 0, 1, 1, 1, 1, 0, 0, 1, 0, 1, 1, 0, 1, 0, 1, 1, 1, 1, 0, 1, 0, 1, 1, 1, 1, 1, 1, 0, 1, 1, 0, 1, 1, 0, 0, 0, 0, 0, 0, 1, 1, 1, 0, 1, 1, 0, 0, 0, 0, 1, 0, 1, 1, 0, 0, 0, 1, 0, 0, 0, 1, 0, 0, 1, 1, 0, 0, 0, 1, 1, 1, 0, 0, 1, 0, 1, 1, 0, 0, 1, 0, 0, 0, 1, 1, 1, 1, 1, 1, 0, 0, 1, 0, 1, 0, 1, 1, 0, 0, 1, 1, 0, 1, 1, 1, 0, 0, 1, 1, 0, 0, 1, 1, 1, 0, 1, 1, 0, 0, 1, 1, 0, 0, 1, 1, 1, 0, 1, 1, 0, 1, 0, 1, 0, 1, 0, 0, 0, 0, 1, 1, 0, 1, 0, 0, 1, 0, 1, 0, 1, 0, 1, 1, 0, 1, 0, 1, 0, 0, 1, 0, 0, 0, 0, 1, 0, 1, 0, 1, 1, 0, 1, 1, 0, 1, 0, 0, 0, 1, 0, 1, 1, 0, 1, 1, 0, 1, 1, 0, 0, 0, 0, 1, 1, 0, 1, 1, 0, 1, 1, 0, 0, 0, 1, 1, 0, 1, 0, 0, 0, 1, 1, 0, 1, 0, 1, 1, 0, 1, 1, 0, 0, 0, 0, 1, 0, 0, 1, 1, 0, 1, 1, 1, 1, 0, 0, 1, 0, 1, 1, 1, 0, 1, 1, 1, 1, 0, 1, 1, 1, 0, 1, 0, 1, 0, 0, 0, 0, 0, 1, 1, 1, 0, 0, 0, 0, 1, 0, 0, 0, 0, 1, 1, 1, 0, 0, 0, 1, 0, 1, 1, 1, 1, 1, 1, 1, 0, 0, 0, 1, 0, 1, 1, 1, 0, 1, 1, 1, 1, 0, 1, 0, 0, 1, 1, 1, 0, 0, 1, 0, 0, 0, 1, 1, 0, 1, 1, 1, 0, 0, 1, 1, 0, 1, 1, 0, 1, 1, 1, 1, 0, 1, 0, 0, 0, 1, 1, 1, 0, 1, 1, 0, 0, 1, 0, 1, 0, 1, 1, 1, 0, 1, 1, 0, 0, 0, 0, 1, 0, 1, 1, 1, 0, 1, 1, 1, 0, 1, 1, 1, 0, 1, 0, 0, 1, 0, 0, 0, 0, 1, 1, 1, 1, 0, 0, 1, 1, 0, 1, 0, 0, 1, 1, 1, 1, 0, 0, 1, 0, 1, 0, 1, 0, 1, 1, 1, 1, 0, 1, 0, 0, 1, 1, 1, 1, 0, 0, 0, 0, 0, 1, 0, 0, 1, 1, 1, 1, 0, 1, 0, 0, 1, 0, 0, 0, 1, 1, 1, 1, 0, 1, 1, 0, 1, 1, 1, 1, 0, 0, 1, 1, 0, 1, 1, 0, 1, 1, 1, 1, 1, 1, 0, 0, 0, 0, 0, 0, 1, 1, 1, 1, 1, 0, 0, 0, 0, 0, 1, 1, 1, 1, 1, 1, 1, 0, 0, 0, 1, 1, 1, 1, 0, 1, 1, 1, 1, 0, 1, 0, 1, 1, 1, 1, 1, 1, 1, 0, 0, 1, 0, 0, 1, 1, 1, 1, 1, 1, 1, 1, 0, 1, 1, 0, 1, 0, 0, 0, 0, 0, 0, 1, 0, 0, 0, 0, 1, 0, 0, 1, 0, 0, 0, 1, 0, 0, 0, 0, 0, 0, 1, 1, 1, 1, 1, 1, 0, 0, 0, 0, 0, 1, 0, 1, 0, 0, 0, 0, 0, 0, 0, 0, 0, 1, 0, 1, 0, 0, 0, 0, 0, 0, 1, 1, 0, 1, 1, 1, 0, 0, 0, 0, 1, 0, 0, 1, 1, 0, 0, 0, 0, 0, 0, 0, 1, 0, 1, 1, 0, 0, 0, 0, 1, 0, 1, 0, 1, 1, 0, 1, 0, 0, 0, 1, 0, 0, 1, 1, 1, 0, 0, 1, 0, 0, 0, 1, 0, 0, 1, 1, 0, 0, 1, 1, 1, 0, 0, 1, 0, 1, 0, 1, 0, 0, 0, 1, 1, 1, 0, 0, 0, 1, 1, 1, 0, 0, 0, 1, 1, 0, 0, 1, 1, 1, 0, 1, 0, 0, 0, 1, 1, 0, 1, 1, 0, 0, 1, 1, 1, 1, 0, 1, 1, 1, 0, 1, 0, 0, 0, 1, 1, 0, 0, 1, 1, 1, 0, 1, 0, 0, 1, 0, 0, 0, 0, 1, 1, 0, 1, 1, 0, 0, 1, 0, 0, 0, 1, 1, 0, 0, 1, 0, 0, 0, 0, 0, 0, 1, 0, 1, 0, 0, 1, 0, 0, 1, 0, 0, 1, 0, 1, 1, 0, 0, 1, 0, 1, 0, 0, 1, 0, 0, 1, 1, 0, 0, 1, 0, 1, 1, 0, 1, 0, 0, 1, 0, 0, 1, 0, 1, 1, 1, 0, 1, 0, 0, 1, 0, 1, 1, 1, 0, 1, 0, 0, 1, 0, 0, 1, 1, 0, 0, 0, 1, 0, 0, 1, 1, 1, 0, 1, 1, 0, 0, 1, 1, 0, 0, 1, 1, 0, 0, 0, 1, 1, 1, 0, 1, 0, 0, 1, 1, 0, 1, 1, 1, 0, 0, 0, 1, 0, 0, 1, 1, 1, 0, 0, 1, 0, 0, 1, 1, 1, 1, 0, 1, 1, 0, 1, 1, 0, 0, 1, 1, 1, 1, 0, 0, 0, 1, 0, 1, 0, 0, 1, 1, 1, 1, 1, 1, 0, 0, 0, 1, 0, 1, 0, 0, 0, 0, 0, 1, 0, 1, 0, 0, 0, 0, 0, 0, 0, 1, 0, 1, 0, 1, 0, 0, 0, 1, 1, 1, 1, 1, 0, 1, 0, 1, 0, 0, 1, 0, 0, 1, 0, 1, 1, 1, 0, 1, 0, 0, 1, 0, 0, 1, 0, 1, 0, 0, 1, 0, 0, 1, 1, 0, 0, 1, 0, 1, 0, 0, 0, 1, 0, 1, 0, 0, 1, 1, 0, 1, 0, 0, 0, 0, 1, 1, 0, 0, 1, 0, 0, 1, 1, 1, 1, 1, 1, 1, 0, 0, 1, 1, 1, 0, 1, 1, 1, 1, 1, 1, 0, 0, 1, 1, 1, 0, 0, 1, 0, 1, 1, 0, 0, 0, 1, 1, 0, 1, 0, 1, 0, 0, 1, 1, 0, 1, 1, 1, 0, 0, 0, 1, 0, 0, 1, 0, 1, 1, 0, 0, 1, 1, 0, 1, 0, 0, 1, 0, 1, 0, 0, 1, 0, 0, 1, 1, 1, 1, 1, 0, 0, 1, 0, 1, 0, 0, 1, 0, 0, 1, 1, 1, 1, 0, 1, 1, 0, 0, 1, 0, 0, 0, 0, 1, 1, 0, 1, 0, 0, 0, 0, 1, 1, 1, 0, 1, 0, 0, 0, 1, 0, 1, 0, 1, 1, 0, 1, 1, 0, 0, 0, 1, 0, 1, 0, 0, 1, 1, 1, 1, 0, 0, 0, 1, 0, 1, 0, 1, 0, 1, 0, 0, 1, 0, 0, 1, 0, 0, 0, 1, 0, 0, 0, 0, 0, 1, 0, 0, 1, 1, 1, 1, 0, 0, 0, 0, 1, 1, 0, 0, 0, 1, 1, 1, 0, 0, 0, 0, 1, 0, 1, 1, 0, 0, 0, 1, 0, 0, 0, 0, 1, 0, 1, 1, 0, 0, 0, 0, 1, 1, 1, 1, 1, 0, 0, 1, 0, 0, 0, 0, 0, 1, 1, 1, 1, 1, 0, 1, 0, 0, 0, 0, 0, 1, 1, 1, 0, 0, 0, 0, 1, 0, 0, 0, 0, 1, 0, 1, 0, 0, 0, 0, 0, 0, 0, 1, 1, 0, 1, 1, 0, 0, 0, 0, 0, 0, 1, 1, 0, 0, 0, 1, 0, 0, 0, 0, 0, 0, 0, 1, 0, 0, 0, 0, 1, 0, 0, 1, 0, 0, 0, 1, 0, 0, 0, 0, 0, 0, 0, 1, 1, 0, 0, 0, 1, 1, 1, 1, 1, 1, 1, 0, 1, 1, 0, 1, 0, 1, 1, 1, 1, 1, 1, 0, 1, 1, 1, 1, 1, 0, 1, 0, 1, 1, 0, 0, 1, 1, 1, 1, 1, 0, 1, 0, 1, 0, 0, 1, 1, 1, 1, 1, 1, 0, 1, 0, 1, 1, 1, 0, 0, 1, 0, 0, 0, 0, 0, 0, 0, 0, 1, 1, 0, 0, 0, 0, 0, 1]\n"
     ]
    }
   ],
   "source": [
    "datos_array2 = np.array(datos_pd2)\n",
    "\n",
    "datos_list2 = []\n",
    "\n",
    "for i in range(len(datos_array2)):\n",
    "    datos_list2.append(datos_array2[i][0])\n",
    "    \n",
    "print(datos_list2)"
   ]
  },
  {
   "cell_type": "code",
   "execution_count": 28,
   "id": "91837b55",
   "metadata": {},
   "outputs": [],
   "source": [
    "# Variante (15, 11)\n",
    "\n",
    "# Longitud del bloque\n",
    "n2 = 15\n",
    "\n",
    "# Número de bits de mensaje\n",
    "k2 = 11\n",
    "\n",
    "# Matriz de paridad para variante (7, 4)\n",
    "P2 = np.array([\n",
    "    [1, 1, 1, 1],\n",
    "    [1, 1, 1, 0],\n",
    "    [1, 1, 0, 1],\n",
    "    [1, 1, 0, 0],\n",
    "    [1, 0, 1, 1],\n",
    "    [1, 0, 1, 0],\n",
    "    [1, 0, 0, 1],\n",
    "    [0, 1, 1, 1],\n",
    "    [0, 1, 1, 0],\n",
    "    [0, 1, 0, 1],\n",
    "    [0, 0, 1, 1],\n",
    "])\n",
    "\n",
    "I_k2 = np.eye(k2)\n",
    "I_nk2 = np.eye(n2 - k2)"
   ]
  },
  {
   "cell_type": "code",
   "execution_count": 29,
   "id": "9e336bfa",
   "metadata": {},
   "outputs": [],
   "source": [
    "# Matriz generadora G en el formato [I_k | P] para el código de Hamming (15, 11)\n",
    "G2 = np.concatenate((I_k2, P2), axis=1).astype(int)\n",
    "\n",
    "# Matriz de revisión de paridad H\n",
    "H2 = np.concatenate((np.transpose(P2), I_nk2), axis=1).astype(int)"
   ]
  },
  {
   "cell_type": "markdown",
   "id": "0b3227e0",
   "metadata": {},
   "source": [
    "### Ejemplo"
   ]
  },
  {
   "cell_type": "code",
   "execution_count": 30,
   "id": "e0c46c46",
   "metadata": {},
   "outputs": [],
   "source": [
    "# Datos de entrada (4 bits)\n",
    "data_bits = [0, 0, 0, 1, 1, 1, 0, 1, 0, 1, 0]"
   ]
  },
  {
   "cell_type": "code",
   "execution_count": 31,
   "id": "b7a58f43",
   "metadata": {},
   "outputs": [],
   "source": [
    "# Codificar los datos\n",
    "encoded_bits = encoder.hamming_encode(data_bits, G2)"
   ]
  },
  {
   "cell_type": "code",
   "execution_count": 32,
   "id": "022e6f3c",
   "metadata": {},
   "outputs": [
    {
     "name": "stdout",
     "output_type": "stream",
     "text": [
      "Datos originales: [0, 0, 0, 1, 1, 1, 0, 1, 0, 1, 0]\n",
      "Datos codificados: [0, 0, 0, 1, 1, 1, 0, 1, 0, 1, 0, 1, 1, 1, 1]\n"
     ]
    }
   ],
   "source": [
    "print(\"Datos originales:\", data_bits)\n",
    "print(\"Datos codificados:\", encoded_bits)"
   ]
  },
  {
   "cell_type": "code",
   "execution_count": 33,
   "id": "8d5fe2a2",
   "metadata": {},
   "outputs": [],
   "source": [
    "error_bits = [0, 1, 0, 0, 0, 0, 0, 0, 0, 0, 0, 0, 0, 0, 0, 0]"
   ]
  },
  {
   "cell_type": "code",
   "execution_count": 34,
   "id": "03854271",
   "metadata": {},
   "outputs": [],
   "source": [
    "encoded_bits = [((a+b)%2) for a, b in zip(encoded_bits, error_bits)]"
   ]
  },
  {
   "cell_type": "code",
   "execution_count": 35,
   "id": "cc81192d",
   "metadata": {},
   "outputs": [],
   "source": [
    "decoded_bits, error = decoder.hamming_decode(encoded_bits, H2)"
   ]
  },
  {
   "cell_type": "code",
   "execution_count": 36,
   "id": "d2b29f1f",
   "metadata": {},
   "outputs": [
    {
     "name": "stdout",
     "output_type": "stream",
     "text": [
      "Datos codificados con 1 error: [0, 1, 0, 1, 1, 1, 0, 1, 0, 1, 0, 1, 1, 1, 1]\n",
      "Datos decodificados: [0, 0, 0, 1, 1, 1, 0, 1, 0, 1, 0]\n",
      "Error encontrado\n"
     ]
    }
   ],
   "source": [
    "print(\"Datos codificados con 1 error:\", encoded_bits)\n",
    "print(\"Datos decodificados:\", decoded_bits)\n",
    "if error:\n",
    "    print(\"Error encontrado\")\n",
    "else:\n",
    "    print(\"Sin errores\")"
   ]
  },
  {
   "cell_type": "markdown",
   "id": "0853959a",
   "metadata": {},
   "source": [
    "### Datos leídos"
   ]
  },
  {
   "cell_type": "code",
   "execution_count": 37,
   "id": "2e2c7b49",
   "metadata": {},
   "outputs": [],
   "source": [
    "bloque_decodificado, BER_1511 = decoder.hamming_decode_block(datos_list2, 1511, H2)"
   ]
  },
  {
   "cell_type": "code",
   "execution_count": 38,
   "id": "98ea1a32",
   "metadata": {},
   "outputs": [],
   "source": [
    "valores_enteros = []\n",
    "if len(bloque_decodificado)%8 != 0:\n",
    "    bits_agregados = len(bloque_decodificado) % 8\n",
    "    num_valores = int((len(bloque_decodificado) - bits_agregados) / 8)\n",
    "else:\n",
    "    num_valores = int(len(bloque_decodificado) / 8)"
   ]
  },
  {
   "cell_type": "code",
   "execution_count": 39,
   "id": "7f35b9ea",
   "metadata": {},
   "outputs": [],
   "source": [
    "datos_enteros = []"
   ]
  },
  {
   "cell_type": "code",
   "execution_count": 40,
   "id": "73c1f2f5",
   "metadata": {
    "scrolled": true
   },
   "outputs": [],
   "source": [
    "for i in range(num_valores):\n",
    "    num_str = \"\"\n",
    "    num_array = bloque_decodificado[8*i:8*i+8]\n",
    "    for bit in num_array:\n",
    "        num_str += str(bit)\n",
    "    datos_enteros.append(encoder.bin2int(num_str))"
   ]
  },
  {
   "cell_type": "markdown",
   "id": "f47bd0a8",
   "metadata": {},
   "source": [
    "#### Ganancia de código"
   ]
  },
  {
   "cell_type": "code",
   "execution_count": 41,
   "id": "341bc5d1",
   "metadata": {},
   "outputs": [],
   "source": [
    "G_1511 = 10*np.log10(BER_uncoded / BER_1511)"
   ]
  },
  {
   "cell_type": "code",
   "execution_count": 42,
   "id": "8212fe08",
   "metadata": {},
   "outputs": [],
   "source": [
    "# Guarda los datos enteros decodificados en un CSV\n",
    "decodificados_1511 = pd.DataFrame({'BPM_Decodificados_15_11': datos_enteros})\n",
    "\n",
    "# Guarda el DataFrame en un archivo CSV\n",
    "decodificados_1511.to_excel('decodificados_1511.xlsx', index=False)"
   ]
  },
  {
   "cell_type": "code",
   "execution_count": 43,
   "id": "e9c94566",
   "metadata": {},
   "outputs": [
    {
     "name": "stdout",
     "output_type": "stream",
     "text": [
      "Datos decodificados binarios: [0, 1, 0, 1, 1, 0, 1, 1, 0, 1, 0, 1, 1, 1, 0, 0, 0, 1, 0, 1, 1, 1, 0, 0, 0, 1, 0, 1, 1, 1, 0, 1, 0, 1, 0, 1, 1, 1, 1, 0, 0, 1, 0, 1, 1, 1, 1, 1, 0, 1, 0, 1, 1, 1, 1, 1, 0, 1, 1, 0, 0, 0, 0, 0, 0, 1, 1, 0, 0, 0, 0, 1, 0, 1, 1, 0, 0, 0, 1, 0, 0, 1, 1, 0, 0, 0, 1, 1, 0, 1, 1, 0, 0, 1, 0, 0, 0, 1, 1, 0, 0, 1, 0, 1, 0, 1, 1, 0, 0, 1, 1, 0, 0, 1, 1, 0, 0, 1, 1, 1, 0, 1, 1, 0, 0, 1, 1, 1, 0, 1, 1, 0, 1, 0, 0, 0, 0, 1, 1, 0, 1, 0, 0, 1, 0, 1, 1, 0, 1, 0, 1, 0, 0, 1, 1, 0, 1, 0, 1, 1, 0, 1, 1, 0, 1, 0, 1, 1, 0, 1, 1, 0, 1, 1, 0, 0, 0, 1, 1, 0, 1, 1, 0, 0, 0, 1, 1, 0, 1, 1, 0, 1, 0, 1, 1, 0, 1, 1, 1, 0, 0, 1, 1, 0, 1, 1, 1, 1, 0, 1, 1, 0, 1, 1, 1, 1, 0, 1, 1, 1, 0, 0, 0, 0, 0, 1, 1, 1, 0, 0, 0, 0, 0, 1, 1, 1, 0, 0, 0, 1, 0, 1, 1, 1, 0, 0, 0, 1, 0, 1, 1, 1, 0, 0, 1, 0, 0, 1, 1, 1, 0, 0, 1, 0, 0, 1, 1, 1, 0, 0, 1, 1, 0, 1, 1, 1, 0, 1, 0, 0, 0, 1, 1, 1, 0, 1, 0, 1, 0, 1, 1, 1, 0, 1, 1, 0, 0, 1, 1, 1, 0, 1, 1, 1, 0, 1, 1, 1, 1, 0, 0, 0, 0, 1, 1, 1, 1, 0, 0, 0, 0, 1, 1, 1, 1, 0, 0, 1, 0, 1, 1, 1, 1, 0, 1, 0, 0, 1, 1, 1, 1, 0, 1, 0, 0, 1, 1, 1, 1, 0, 1, 0, 0, 1, 1, 1, 1, 0, 1, 1, 0, 1, 1, 1, 1, 0, 1, 1, 0, 1, 1, 1, 1, 1, 0, 0, 0, 1, 1, 1, 1, 1, 0, 0, 0, 1, 1, 1, 1, 1, 0, 0, 0, 1, 1, 1, 1, 1, 0, 1, 0, 1, 1, 1, 1, 1, 1, 0, 0, 1, 1, 1, 1, 1, 1, 1, 1, 0, 0, 0, 0, 0, 0, 0, 1, 0, 0, 0, 0, 0, 0, 0, 1, 0, 0, 0, 0, 0, 0, 1, 1, 0, 0, 0, 0, 0, 1, 0, 1, 0, 0, 0, 0, 0, 1, 0, 1, 0, 0, 0, 0, 0, 1, 1, 1, 0, 0, 0, 0, 1, 0, 0, 1, 0, 0, 0, 0, 1, 0, 1, 1, 0, 0, 0, 0, 1, 1, 0, 1, 0, 0, 0, 1, 0, 0, 0, 1, 0, 0, 0, 1, 0, 0, 1, 1, 0, 0, 0, 1, 0, 1, 0, 1, 0, 0, 0, 1, 0, 1, 1, 1, 0, 0, 0, 1, 1, 0, 0, 1, 0, 0, 0, 1, 1, 0, 1, 1, 0, 0, 0, 1, 1, 1, 0, 1, 0, 0, 0, 1, 1, 1, 0, 1, 0, 0, 1, 0, 0, 0, 0, 1, 0, 0, 1, 0, 0, 0, 1, 1, 0, 0, 1, 0, 0, 1, 0, 1, 0, 0, 1, 0, 0, 1, 1, 1, 0, 0, 1, 0, 1, 0, 0, 1, 0, 0, 1, 0, 1, 1, 0, 1, 0, 0, 1, 0, 1, 1, 0, 1, 0, 0, 1, 0, 1, 1, 1, 1, 0, 0, 1, 1, 0, 0, 0, 1, 0, 0, 1, 1, 0, 0, 1, 1, 0, 0, 1, 1, 0, 1, 0, 1, 0, 0, 1, 1, 0, 1, 1, 1, 0, 0, 1, 1, 1, 0, 0, 1, 0, 0, 1, 1, 1, 0, 1, 1, 0, 0, 1, 1, 1, 1, 0, 1, 0, 0, 1, 1, 1, 1, 1, 1, 0, 1, 0, 0, 0, 0, 0, 1, 0, 1, 0, 0, 0, 1, 0, 1, 0, 1, 0, 0, 0, 1, 1, 1, 0, 1, 0, 0, 1, 0, 0, 1, 0, 1, 0, 0, 1, 0, 0, 1, 0, 1, 0, 0, 1, 0, 0, 1, 0, 1, 0, 0, 0, 1, 0, 1, 0, 1, 0, 0, 0, 0, 1, 1, 0, 0, 1, 1, 1, 1, 1, 1, 0, 0, 1, 1, 1, 0, 1, 1, 0, 0, 1, 1, 1, 0, 0, 1, 0, 0, 1, 1, 0, 1, 0, 1, 0, 0, 1, 1, 0, 0, 0, 1, 0, 0, 1, 0, 1, 1, 0, 1, 0, 0, 1, 0, 1, 0, 0, 1, 0, 0, 1, 0, 0, 1, 0, 1, 0, 0, 1, 0, 0, 0, 1, 1, 0, 0, 1, 0, 0, 0, 0, 1, 0, 0, 0, 1, 1, 1, 0, 1, 0, 0, 0, 1, 1, 0, 1, 1, 0, 0, 0, 1, 0, 1, 1, 1, 0, 0, 0, 1, 0, 1, 0, 1, 0, 0, 0, 1, 0, 0, 0, 1, 0, 0, 0, 0, 1, 1, 1, 1, 0, 0, 0, 0, 1, 1, 0, 1, 0, 0, 0, 0, 1, 0, 1, 1, 0, 0, 0, 0, 1, 0, 1, 1, 0, 0, 0, 0, 1, 0, 0, 1, 0, 0, 0, 0, 0, 1, 1, 1, 0, 0, 0, 0, 0, 1, 1, 1, 0, 0, 0, 0, 0, 1, 0, 1, 0, 0, 0, 0, 0, 0, 1, 1, 0, 0, 0, 0, 0, 0, 1, 1, 0, 0, 0, 0, 0, 0, 0, 1, 0, 0, 0, 0, 0, 0, 0, 1, 0, 0, 0, 0, 0, 0, 0, 0, 1, 1, 1, 1, 1, 1, 1, 0, 1, 0, 1, 1, 1, 1, 1, 0, 1, 1, 1, 1, 1, 1, 0, 0, 1, 1, 1, 1, 1, 0, 1, 0, 1, 1, 1, 1, 1, 0, 1, 0, 1, 1, 1, 0, 0, 0, 0, 0, 0, 0, 1, 1, 0, 0]\n",
      "\n",
      "Datos decodificados enteros: [91, 92, 92, 93, 94, 95, 95, 96, 97, 98, 99, 100, 101, 102, 103, 103, 104, 105, 106, 107, 107, 108, 108, 109, 110, 111, 111, 112, 112, 113, 113, 114, 114, 115, 116, 117, 118, 119, 120, 120, 121, 122, 122, 122, 123, 123, 124, 124, 124, 125, 126, 127, 128, 128, 129, 130, 130, 131, 132, 133, 134, 136, 137, 138, 139, 140, 141, 142, 142, 144, 145, 146, 147, 148, 150, 150, 151, 152, 153, 154, 155, 156, 157, 158, 159, 160, 162, 163, 164, 164, 164, 162, 161, 159, 157, 156, 154, 152, 150, 148, 146, 145, 144, 142, 141, 139, 138, 136, 135, 134, 133, 133, 132, 131, 131, 130, 129, 129, 128, 128, 128, 127, 95, 126, 125, 125, 112]\n",
      "\n",
      "Bit Error Rate del sistema: 0.0009775171065493646\n",
      "\n",
      "Ganancia de código:  15.34460842806515\n"
     ]
    }
   ],
   "source": [
    "print(\"Datos decodificados binarios:\", bloque_decodificado)\n",
    "print(\"\\nDatos decodificados enteros:\", datos_enteros)\n",
    "print(\"\\nBit Error Rate del sistema:\", BER_1511)\n",
    "print(\"\\nGanancia de código: \", G_1511)"
   ]
  },
  {
   "cell_type": "markdown",
   "id": "2fc29b7b",
   "metadata": {},
   "source": [
    "# Tiempo de ejecución"
   ]
  },
  {
   "cell_type": "code",
   "execution_count": 44,
   "id": "68a87b17",
   "metadata": {},
   "outputs": [],
   "source": [
    "numero_ejecuciones = 200"
   ]
  },
  {
   "cell_type": "markdown",
   "id": "dd85771e",
   "metadata": {},
   "source": [
    "## Variante código (7, 4)"
   ]
  },
  {
   "cell_type": "code",
   "execution_count": 45,
   "id": "61139bd7",
   "metadata": {},
   "outputs": [],
   "source": [
    "inicio = time()\n",
    "\n",
    "for i in range(numero_ejecuciones):\n",
    "    bloque_decodificado, ber = decoder.hamming_decode_block(datos_list1, 74, H1)\n",
    "    valores_enteros = []\n",
    "    if len(bloque_decodificado)%8 != 0:\n",
    "        bits_agregados = len(bloque_decodificado) % 8\n",
    "        num_valores = int((len(bloque_decodificado) - bits_agregados) / 8)\n",
    "    else:\n",
    "        num_valores = int(len(bloque_decodificado) / 8)\n",
    "\n",
    "    datos_enteros = []\n",
    "    \n",
    "    for i in range(num_valores):\n",
    "        num_str = \"\"\n",
    "        num_array = bloque_decodificado[8*i:8*i+8]\n",
    "        for bit in num_array:\n",
    "            num_str += str(bit)\n",
    "        datos_enteros.append(encoder.bin2int(num_str))\n",
    "\n",
    "fin = time()\n",
    "\n",
    "tiempo_74 = (fin - inicio) / 200"
   ]
  },
  {
   "cell_type": "markdown",
   "id": "81c1d54f",
   "metadata": {},
   "source": [
    "## Variante código (15, 11)"
   ]
  },
  {
   "cell_type": "code",
   "execution_count": 46,
   "id": "1aff6d06",
   "metadata": {},
   "outputs": [],
   "source": [
    "inicio = time()\n",
    "\n",
    "for i in range(numero_ejecuciones):\n",
    "    bloque_decodificado, ber = decoder.hamming_decode_block(datos_list2, 1511, H2)\n",
    "    valores_enteros = []\n",
    "    if len(bloque_decodificado)%8 != 0:\n",
    "        bits_agregados = len(bloque_decodificado) % 8\n",
    "        num_valores = int((len(bloque_decodificado) - bits_agregados) / 8)\n",
    "    else:\n",
    "        num_valores = int(len(bloque_decodificado) / 8)\n",
    "\n",
    "    datos_enteros = []\n",
    "    \n",
    "    for i in range(num_valores):\n",
    "        num_str = \"\"\n",
    "        num_array = bloque_decodificado[8*i:8*i+8]\n",
    "        for bit in num_array:\n",
    "            num_str += str(bit)\n",
    "        datos_enteros.append(encoder.bin2int(num_str))\n",
    "\n",
    "\n",
    "fin = time()\n",
    "\n",
    "tiempo_1511 = (fin - inicio) / 200"
   ]
  },
  {
   "cell_type": "markdown",
   "id": "0b870114",
   "metadata": {},
   "source": [
    "## Resultados"
   ]
  },
  {
   "cell_type": "code",
   "execution_count": 47,
   "id": "ed4aeb87",
   "metadata": {
    "scrolled": true
   },
   "outputs": [
    {
     "name": "stdout",
     "output_type": "stream",
     "text": [
      "Tiempo promedio usando condificación (7, 4):  2821.0640 μs\n",
      "Tiempo promedio usando condificación (15, 11):  1638.2873 μs\n"
     ]
    }
   ],
   "source": [
    "print('Tiempo promedio usando condificación (7, 4): ', f'{tiempo_74*1e6:.4f} \\u03BCs')\n",
    "print('Tiempo promedio usando condificación (15, 11): ', f'{tiempo_1511*1e6:.4f} \\u03BCs')"
   ]
  }
 ],
 "metadata": {
  "kernelspec": {
   "display_name": "Python 3 (ipykernel)",
   "language": "python",
   "name": "python3"
  },
  "language_info": {
   "codemirror_mode": {
    "name": "ipython",
    "version": 3
   },
   "file_extension": ".py",
   "mimetype": "text/x-python",
   "name": "python",
   "nbconvert_exporter": "python",
   "pygments_lexer": "ipython3",
   "version": "3.10.9"
  }
 },
 "nbformat": 4,
 "nbformat_minor": 5
}
