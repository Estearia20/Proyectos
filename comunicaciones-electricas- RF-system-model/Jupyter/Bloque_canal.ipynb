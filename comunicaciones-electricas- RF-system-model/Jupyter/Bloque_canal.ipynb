{
 "cells": [
  {
   "cell_type": "markdown",
   "id": "1f2febca",
   "metadata": {},
   "source": [
    "# Requerimientos del canal\n",
    "### Instituto Tecnologico de Costa Rica\n",
    "### Escuela de Ingeniería Electrónica\n",
    "### Curso: Taller de Comunicaciones Eléctricas\n",
    "### Estudiantes:\n",
    "- Esteban Arias Rojas\n",
    "- David Herrera Castro\n",
    "- David Monge Naranjo\n",
    "- Federico Rivera Moya"
   ]
  },
  {
   "cell_type": "markdown",
   "id": "7299b24f",
   "metadata": {},
   "source": [
    "## Bloque canal"
   ]
  },
  {
   "cell_type": "markdown",
   "id": "bc99fb01",
   "metadata": {},
   "source": [
    "### Paquetes importantes a utilizar"
   ]
  },
  {
   "cell_type": "code",
   "execution_count": 1,
   "id": "4ee5f560",
   "metadata": {},
   "outputs": [],
   "source": [
    "import numpy as np\n",
    "import pandas as pd\n",
    "from utils import awgn_channel\n",
    "import random"
   ]
  },
  {
   "cell_type": "markdown",
   "id": "0e38dc10",
   "metadata": {},
   "source": [
    "### Lectura de los datos codificados"
   ]
  },
  {
   "cell_type": "code",
   "execution_count": 2,
   "id": "cf93c75b",
   "metadata": {},
   "outputs": [
    {
     "name": "stdout",
     "output_type": "stream",
     "text": [
      "Datos con codificación Hamming 1511\n",
      "      Datos\n",
      "0         0\n",
      "1         1\n",
      "2         0\n",
      "3         1\n",
      "4         1\n",
      "...     ...\n",
      "1390      0\n",
      "1391      0\n",
      "1392      0\n",
      "1393      0\n",
      "1394      1\n",
      "\n",
      "[1395 rows x 1 columns]\n",
      "Datos con codificación Hamming 74\n",
      "      Datos\n",
      "0         0\n",
      "1         1\n",
      "2         0\n",
      "3         1\n",
      "4         1\n",
      "...     ...\n",
      "1773      0\n",
      "1774      0\n",
      "1775      1\n",
      "1776      0\n",
      "1777      1\n",
      "\n",
      "[1778 rows x 1 columns]\n"
     ]
    }
   ],
   "source": [
    "# Datos provenientes de la codificacion con Hamming 1511\n",
    "file_1511 = \"datos_codificados_1511.xlsx\"\n",
    "\n",
    "# Datos provenientes de la codificacion con Hamming 74\n",
    "file_74   = \"datos_codificados_74.xlsx\"\n",
    "\n",
    "# Leer el archivo Excel\n",
    "codificacion_1511 = pd.read_excel(file_1511)\n",
    "codificacion_74   = pd.read_excel(file_74)\n",
    "\n",
    "# Mostrar los datos leídos\n",
    "print(\"Datos con codificación Hamming 1511\")\n",
    "print(codificacion_1511)\n",
    "\n",
    "print(\"Datos con codificación Hamming 74\")\n",
    "print(codificacion_74)"
   ]
  },
  {
   "cell_type": "markdown",
   "id": "292814d1",
   "metadata": {},
   "source": [
    "Los datos son un data frame, se requieren pasar a lista para que puedan ser utilizados por la función del canal"
   ]
  },
  {
   "cell_type": "code",
   "execution_count": 3,
   "id": "4e5090d4",
   "metadata": {
    "scrolled": true
   },
   "outputs": [],
   "source": [
    "datos_1511 = np.array(codificacion_1511)\n",
    "datos_74   = np.array(codificacion_74)\n",
    "\n",
    "# Convierte los datos a una lista\n",
    "datos_list_1511 = []\n",
    "for bit in datos_1511:\n",
    "    datos_list_1511.append(datos_1511[bit][0][0])\n",
    "\n",
    "# Convierte los datos a una lista\n",
    "datos_list_74 = []\n",
    "for bit in datos_74:\n",
    "    datos_list_74.append(datos_74[bit][0][0])"
   ]
  },
  {
   "cell_type": "markdown",
   "id": "7b3209d6",
   "metadata": {},
   "source": [
    "Los datos se encuentran en binario, es necesario pasarlos a decimal ante de agregarles ruido"
   ]
  },
  {
   "cell_type": "code",
   "execution_count": 4,
   "id": "7012bd04",
   "metadata": {},
   "outputs": [],
   "source": [
    "#Para la codificación Hamming 1511\n",
    "# Separa los datos en grupos de 15 bits\n",
    "grupos_de_1511 = [datos_list_1511[i:i+15] for i in range(0, len(datos_list_1511), 15)]\n",
    "\n",
    "# Convierte cada grupo de bits en una cadena de 15 caracteres\n",
    "cadenas_1511 = [''.join(map(str, grupo)) for grupo in grupos_de_1511]\n",
    "\n",
    "# Convierte cada cadena binaria en decimal\n",
    "numeros_decimales_1511 = [int(cadena, 2) for cadena in cadenas_1511]\n",
    "\n",
    "#Para la codificación Hamming 74\n",
    "# Separa los datos en grupos de 7 bits\n",
    "grupos_de_74 = [datos_list_74[i:i+7] for i in range(0, len(datos_list_74), 7)]\n",
    "\n",
    "# Convierte cada grupo de bits en una cadena de 7 caracteres\n",
    "cadenas_74 = [''.join(map(str, grupo)) for grupo in grupos_de_74]\n",
    "\n",
    "# Convierte cada cadena binaria en decimal\n",
    "numeros_decimales_74 = [int(cadena, 2) for cadena in cadenas_74]"
   ]
  },
  {
   "cell_type": "markdown",
   "id": "e3474e45",
   "metadata": {},
   "source": [
    "### Función para pasar los datos por el canal"
   ]
  },
  {
   "cell_type": "code",
   "execution_count": 5,
   "id": "53439a8e",
   "metadata": {},
   "outputs": [
    {
     "name": "stdout",
     "output_type": "stream",
     "text": [
      "Datos después de pasar por el canal:\n",
      "[11682.31769117 29045.07753165  2989.01713961 24153.66901166\n",
      " 31484.95073109 22556.93698871 17091.98530369  9784.8886339\n",
      " 12862.99221714  5530.91523787 19691.76663503 26474.15712414\n",
      " 17226.15653724 23184.30364957 22225.00888684 14018.92812233\n",
      " 13875.9031347  13743.72531904 19941.17448535 28532.80443146\n",
      "   899.78951536  7262.96347304 25327.2639655  10019.04204488\n",
      " 14774.81815816 20952.87336015 11970.11105426 30579.97149007\n",
      " 17356.86344145  7764.95914259 29936.1323348  10148.35099125\n",
      " 15803.77902231 28151.88873759  3970.85723732 31866.57032924\n",
      " 27640.83591865  8172.81814206   265.19963781  2078.97656976\n",
      " 16703.7116766   2566.11486068 28823.93672019  1412.69038818\n",
      " 13389.89402477  8806.89545552  5403.84478348 14542.00527768\n",
      " 18126.60067077 14898.95244089 21019.1799588   4496.15147156\n",
      "  5266.19683315 25894.19882303 11557.26421324 26995.80137057\n",
      " 19534.15023456 26210.66947403 21360.89291724  7325.65995685\n",
      " 27889.18616902 10210.23689477 16703.96493576 10814.31520747\n",
      " 21084.88015679  4755.02675214  5203.02716579  8594.81098062\n",
      " 31983.07778685 26412.34439591 13622.81795466  2406.15973797\n",
      " 19022.97255693 19023.31431623 12826.08592913  3722.12010766\n",
      " 27731.11423686 25257.04424208  4355.7520884  30819.24718326\n",
      " 17091.75654562  5663.04237292  4221.10907065   899.85117237\n",
      "  5126.02576572 24674.20743597   264.99571863  2059.84215916\n",
      " 16309.48211485 32244.82738442 20392.89501425 32113.9082754\n",
      "   192.82948817]\n",
      "\n",
      "Datos después de pasar por el canal:\n",
      "[4.63176912e+01 9.20775317e+01 4.60171396e+01 1.00669012e+02\n",
      " 4.59507311e+01 1.00936989e+02 4.59853037e+01 1.03888634e+02\n",
      " 4.59922171e+01 1.13915238e+02 4.57666350e+01 1.27000000e+02\n",
      " 4.61565372e+01 1.27000000e+02 5.20088868e+01 0.00000000e+00\n",
      " 5.19031347e+01 1.27253190e+01 5.21744853e+01 2.28044315e+01\n",
      " 5.17895154e+01 2.59634730e+01 5.22639655e+01 3.50420449e+01\n",
      " 5.18181582e+01 4.58733601e+01 5.21110543e+01 5.19714901e+01\n",
      " 5.18634414e+01 5.69591426e+01 5.21323348e+01 5.73509913e+01\n",
      " 5.17790223e+01 6.98887376e+01 5.18572373e+01 7.45703292e+01\n",
      " 5.18359187e+01 8.08181421e+01 5.21996378e+01 9.19765698e+01\n",
      " 5.17116766e+01 9.21148607e+01 5.19367202e+01 1.00690388e+02\n",
      " 5.18940248e+01 1.00895456e+02 5.18447835e+01 1.04005278e+02\n",
      " 5.16006708e+01 1.13952441e+02 5.21799588e+01 1.27000000e+02\n",
      " 5.21968332e+01 1.27000000e+02 5.72642132e+01 0.00000000e+00\n",
      " 5.71502346e+01 0.00000000e+00 5.68929172e+01 1.26599568e+01\n",
      " 5.71861690e+01 1.32368948e+01 5.69649358e+01 2.33152075e+01\n",
      " 5.68801568e+01 2.30267521e+01 5.70271658e+01 2.58109806e+01\n",
      " 5.70777868e+01 3.53443959e+01 5.68179547e+01 4.61597380e+01\n",
      " 5.69725569e+01 5.23143162e+01 5.70859291e+01 5.71201077e+01\n",
      " 5.71142369e+01 7.00442421e+01 5.67520884e+01 7.02471833e+01\n",
      " 5.67565456e+01 7.50423729e+01 5.71090706e+01 8.08511724e+01\n",
      " 5.70257657e+01 8.12074360e+01 5.69957186e+01 8.08421592e+01\n",
      " 5.64821148e+01 9.18273844e+01 5.68950143e+01 9.19082754e+01\n",
      " 5.68294882e+01 1.01067014e+02 5.68979219e+01 1.00980559e+02\n",
      " 5.71206148e+01 1.00848060e+02 5.69466782e+01 1.04383324e+02\n",
      " 5.71552882e+01 1.13770246e+02 5.69858366e+01 1.27000000e+02\n",
      " 7.02190857e+01 2.64625452e-02 6.99057595e+01 0.00000000e+00\n",
      " 7.01145741e+01 1.30556049e+01 6.99082344e+01 2.29664176e+01\n",
      " 6.99260761e+01 2.31287117e+01 6.98774511e+01 2.60863956e+01\n",
      " 7.01512444e+01 3.50863662e+01 6.98518247e+01 4.62388938e+01\n",
      " 6.98795378e+01 5.20757422e+01 6.98661948e+01 6.96902160e+01\n",
      " 7.00400971e+01 7.50509824e+01 6.99862452e+01 8.10490345e+01\n",
      " 6.98848311e+01 9.18690136e+01 6.99701443e+01 1.01339120e+02\n",
      " 7.01447251e+01 1.03907641e+02 7.00992371e+01 1.13915034e+02\n",
      " 6.99187826e+01 1.14152624e+02 7.49067040e+01 0.00000000e+00\n",
      " 7.48389910e+01 1.30157041e+01 7.50227364e+01 2.32205324e+01\n",
      " 7.48728215e+01 2.61299209e+01 7.50756590e+01 3.49735326e+01\n",
      " 7.51484602e+01 5.20874088e+01 7.48468392e+01 5.21903495e+01\n",
      " 7.47831468e+01 5.70105887e+01 7.50004341e+01 7.00754226e+01\n",
      " 7.48711505e+01 7.49937935e+01 7.49750235e+01 8.11771000e+01\n",
      " 7.48586319e+01 9.20129209e+01 7.49535992e+01 1.00769445e+02\n",
      " 7.54753236e+01 1.03987350e+02 7.47359440e+01 1.14250196e+02\n",
      " 7.48098456e+01 1.27000000e+02 8.11532538e+01 0.00000000e+00\n",
      " 8.09234665e+01 2.29040387e+01 8.09770233e+01 2.57118230e+01\n",
      " 8.07805297e+01 3.49749939e+01 8.11845358e+01 3.51122086e+01\n",
      " 8.13071743e+01 3.51232756e+01 8.09092147e+01 2.29781809e+01\n",
      " 8.06393672e+01 1.28293498e+01 7.48187666e+01 1.27000000e+02\n",
      " 7.51150657e+01 1.03900468e+02 7.48954720e+01 1.00725305e+02\n",
      " 7.49773073e+01 8.10440789e+01 7.50791784e+01 6.98609774e+01\n",
      " 7.53531900e+01 5.22122629e+01 7.49830842e+01 3.49063624e+01\n",
      " 7.49428810e+01 2.30268434e+01 7.49966914e+01 1.30858830e+01\n",
      " 7.51365814e+01 2.42668219e-01 7.02037740e+01 1.13980421e+02\n",
      " 7.00689599e+01 1.03931240e+02 6.98956996e+01 9.23393957e+01\n",
      " 6.99183234e+01 8.13535893e+01 6.99380053e+01 7.00449061e+01\n",
      " 7.01934979e+01 5.70042490e+01 7.00698258e+01 5.19571259e+01\n",
      " 6.99155386e+01 4.59705552e+01 6.98845990e+01 4.62897617e+01\n",
      " 6.99702138e+01 3.53059757e+01 6.95230785e+01 2.60032718e+01\n",
      " 7.00998123e+01 2.59478123e+01 7.01944292e+01 2.31136204e+01\n",
      " 6.99512263e+01 1.30772651e+01 7.04994379e+01 1.30447587e+01\n",
      " 7.00531968e+01 0.00000000e+00 7.00237114e+01 0.00000000e+00\n",
      " 6.99647802e+01 4.36509816e-01 5.71895558e+01 1.27000000e+02\n",
      " 5.71960755e+01 1.27000000e+02 5.71054315e+01 1.14367824e+02\n",
      " 5.71900146e+01 1.04029577e+02 5.73054086e+01 1.03580963e+02\n",
      " 5.68985186e+01 1.01047208e+02]\n"
     ]
    }
   ],
   "source": [
    "# Semilla para generar secuencia pseudo aleatoria\n",
    "seed = 3\n",
    "\n",
    "# Se llama la funcion que modela el canal\n",
    "[canal_1511, c_1511] = awgn_channel.apply_awgn_channel(signal=numeros_decimales_1511, snr_db=22, signal_power=5, semilla=seed)\n",
    "[canal_74, c_74]     = awgn_channel.apply_awgn_channel(signal=numeros_decimales_74, snr_db=22, signal_power=5, semilla=seed)\n",
    "\n",
    "#Limita los valores que pueden ser representandos por 15 bits desde 0 hasta 32768\n",
    "canal_1511 = np.clip(canal_1511, 0, 32768)\n",
    "\n",
    "#Limita los valores que pueden ser representandos por 7 bits desde 0 hasta 127\n",
    "canal_74 = np.clip(canal_74, 0, 127)\n",
    "\n",
    "print(\"Datos después de pasar por el canal:\")\n",
    "print(canal_1511)\n",
    "print(\"\\nDatos después de pasar por el canal:\")\n",
    "print(canal_74)"
   ]
  },
  {
   "cell_type": "markdown",
   "id": "5b3c5a50",
   "metadata": {},
   "source": [
    "Ahora que los datos tienen ruido se decide redondearlos, para después pasarlos a binario y que continúen a la etapa de decodificación"
   ]
  },
  {
   "cell_type": "code",
   "execution_count": 6,
   "id": "00845c88",
   "metadata": {},
   "outputs": [],
   "source": [
    "# Se redondean los datos\n",
    "rounded_data_1511 = [round(number) for number in canal_1511]\n",
    "rounded_data_74   = [round(number) for number in canal_74]"
   ]
  },
  {
   "cell_type": "code",
   "execution_count": 7,
   "id": "e1a3f825",
   "metadata": {},
   "outputs": [],
   "source": [
    "# Se pasan a un string que contiene binario\n",
    "binarios_1511 = [bin(numero)[2:].zfill(15) for numero in rounded_data_1511]\n",
    "binarios_74   = [bin(numero)[2:].zfill(7) for numero in rounded_data_74]"
   ]
  },
  {
   "cell_type": "code",
   "execution_count": 8,
   "id": "8e1d35af",
   "metadata": {},
   "outputs": [],
   "source": [
    "binary_digits_1511 = [int(bit) for binary_string in binarios_1511 for bit in binary_string]\n",
    "binary_digits_74   = [int(bit) for binary_string in binarios_74 for bit in binary_string]\n"
   ]
  },
  {
   "cell_type": "markdown",
   "id": "63e885cb",
   "metadata": {},
   "source": [
    "### Guardar los datos"
   ]
  },
  {
   "cell_type": "code",
   "execution_count": 9,
   "id": "3413a940",
   "metadata": {},
   "outputs": [],
   "source": [
    "# Se convierten los datos a un data frame\n",
    "datos_ruido_1511 = pd.DataFrame({\"Datos\": binary_digits_1511})\n",
    "datos_ruido_74   = pd.DataFrame({\"Datos\": binary_digits_74})\n",
    "\n",
    "datos_ruido_1511.to_excel(\"datos_ruido_1511.xlsx\", index=False)\n",
    "datos_ruido_74.to_excel(\"datos_ruido_74.xlsx\", index=False)"
   ]
  },
  {
   "cell_type": "markdown",
   "id": "ee96d041",
   "metadata": {},
   "source": [
    "### Capacidad del canal"
   ]
  },
  {
   "cell_type": "code",
   "execution_count": 10,
   "id": "276eae0b",
   "metadata": {},
   "outputs": [
    {
     "name": "stdout",
     "output_type": "stream",
     "text": [
      "Capacidad del canal aplicando Hamming (15,11): 3.6586580009682743\n",
      "Capacidad del canal aplicando Hamming (7,4): 3.6586580009682743\n"
     ]
    }
   ],
   "source": [
    "print(\"Capacidad del canal aplicando Hamming (15,11):\", c_1511)\n",
    "print(\"Capacidad del canal aplicando Hamming (7,4):\", c_74)"
   ]
  },
  {
   "cell_type": "markdown",
   "id": "33140bfc",
   "metadata": {},
   "source": [
    "Los datos acerca de la capacidad del canal que regresa la función del komm no incluye el ancho de banda, por lo que para el sistema utilizado, se quiere operar a B=2.4GHz, por lo que se debe de multiplicar el valor obtenido por 2B"
   ]
  },
  {
   "cell_type": "code",
   "execution_count": 11,
   "id": "24b4b76f",
   "metadata": {},
   "outputs": [
    {
     "name": "stdout",
     "output_type": "stream",
     "text": [
      "Capacidad del canal de Mega bits por segundo: 17.561558404647716 Mb/s\n"
     ]
    }
   ],
   "source": [
    "print(\"Capacidad del canal de Mega bits por segundo:\", c_74*2*2.4, \"Mb/s\")"
   ]
  }
 ],
 "metadata": {
  "kernelspec": {
   "display_name": "Python 3 (ipykernel)",
   "language": "python",
   "name": "python3"
  },
  "language_info": {
   "codemirror_mode": {
    "name": "ipython",
    "version": 3
   },
   "file_extension": ".py",
   "mimetype": "text/x-python",
   "name": "python",
   "nbconvert_exporter": "python",
   "pygments_lexer": "ipython3",
   "version": "3.11.4"
  }
 },
 "nbformat": 4,
 "nbformat_minor": 5
}
